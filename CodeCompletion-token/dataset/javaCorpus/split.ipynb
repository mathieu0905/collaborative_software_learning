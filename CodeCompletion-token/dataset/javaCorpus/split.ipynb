{
 "cells": [
  {
   "cell_type": "code",
   "execution_count": 3,
   "metadata": {},
   "outputs": [],
   "source": [
    "input_file = \"token_completion/train.txt\"\n",
    "output_dir = \"group_2\""
   ]
  },
  {
   "cell_type": "code",
   "execution_count": 4,
   "metadata": {},
   "outputs": [
    {
     "name": "stdout",
     "output_type": "stream",
     "text": [
      "write group_2/train_0.txt\n",
      "write group_2/train_1.txt\n"
     ]
    }
   ],
   "source": [
    "with open(input_file, \"r\") as f:\n",
    "    lines = f.readlines()\n",
    "\n",
    "sum = len(lines)\n",
    "group = 2\n",
    "group_size = sum // group\n",
    "\n",
    "import os\n",
    "if not os.path.exists(output_dir):\n",
    "    os.makedirs(output_dir)\n",
    "    \n",
    "for i in range(group):\n",
    "    with open(f\"{output_dir}/train_{i}.txt\", \"w\") as f:\n",
    "        f.writelines(lines[i*group_size:(i+1)*group_size])\n",
    "    print(f\"write {output_dir}/train_{i}.txt\")\n"
   ]
  }
 ],
 "metadata": {
  "kernelspec": {
   "display_name": "venv",
   "language": "python",
   "name": "python3"
  },
  "language_info": {
   "codemirror_mode": {
    "name": "ipython",
    "version": 3
   },
   "file_extension": ".py",
   "mimetype": "text/x-python",
   "name": "python",
   "nbconvert_exporter": "python",
   "pygments_lexer": "ipython3",
   "version": "3.10.4"
  }
 },
 "nbformat": 4,
 "nbformat_minor": 2
}
