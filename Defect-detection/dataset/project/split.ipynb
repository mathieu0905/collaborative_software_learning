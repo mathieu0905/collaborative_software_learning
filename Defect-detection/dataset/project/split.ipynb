{
 "cells": [
  {
   "cell_type": "code",
   "execution_count": null,
   "metadata": {},
   "outputs": [],
   "source": [
    "import json\n",
    "\n",
    "# set the path to the JSONL file\n",
    "jsonl_file_path = '../train.jsonl'\n",
    "# create an empty dictionary to store the counts of each repository\n",
    "repo_counts = {}\n",
    "# open the JSONL file\n",
    "with open(jsonl_file_path, 'r') as file:\n",
    "    for line in file:\n",
    "        json_object = json.loads(line)\n",
    "        \n",
    "        if \"project\" in json_object:\n",
    "            repo_value = json_object[\"project\"]\n",
    "            \n",
    "            if repo_value in repo_counts:\n",
    "                repo_counts[repo_value] += 1\n",
    "            else:\n",
    "                repo_counts[repo_value] = 1\n",
    "\n",
    "sorted_repo_counts = dict(sorted(repo_counts.items(), key=lambda x: x[0]))\n",
    "\n",
    "for repo, count in sorted_repo_counts.items():\n",
    "    print(f\"repo: {repo}, count: {count}\")"
   ]
  },
  {
   "cell_type": "code",
   "execution_count": null,
   "metadata": {},
   "outputs": [],
   "source": [
    "import json\n",
    "import os\n",
    "\n",
    "jsonl_file_path = f'../train.jsonl'\n",
    "output_jsonl_file = f'../train_sorted.jsonl'\n",
    "\n",
    "with open(jsonl_file_path, 'r') as input_file:\n",
    "    lines = input_file.readlines()\n",
    "sorted_lines = sorted(lines, key=lambda line: json.loads(line).get(\"project\", \"\"))\n",
    "with open(output_jsonl_file, 'w') as output_file:\n",
    "    for line in sorted_lines:\n",
    "        output_file.write(line)\n"
   ]
  },
  {
   "cell_type": "code",
   "execution_count": null,
   "metadata": {},
   "outputs": [],
   "source": [
    "import json\n",
    "import os\n",
    "\n",
    "# Specify the path to the JSONL file\n",
    "jsonl_file_path = '../train_sorted.jsonl'\n",
    "output_folder = '../split_jsonl_files'\n",
    "\n",
    "# Create the output folder if it doesn't exist\n",
    "os.makedirs(output_folder, exist_ok=True)\n",
    "\n",
    "# Create a dictionary to store data for each repository\n",
    "project_data = {}\n",
    "\n",
    "# Read the JSONL file and organize data by repository\n",
    "with open(jsonl_file_path, 'r') as file:\n",
    "    for line in file:\n",
    "        data = json.loads(line.strip())\n",
    "        project = data.get('project')  # Assuming each JSON entry has a 'repository' key\n",
    "\n",
    "        if project:\n",
    "            if project not in project_data:\n",
    "                project_data[project] = []\n",
    "\n",
    "            project_data[project].append(data)\n",
    "\n",
    "# Write data for each project to a separate JSONL file\n",
    "for index, [project, data] in enumerate(project_data.items()):\n",
    "    output_file_path = os.path.join(output_folder, f'split_{index}.jsonl')\n",
    "    with open(output_file_path, 'w') as output_file:\n",
    "        for entry in data:\n",
    "            json.dump(entry, output_file)\n",
    "            output_file.write('\\n')\n",
    "\n",
    "print(\"Data split into separate JSONL files for each project.\")\n"
   ]
  }
 ],
 "metadata": {
  "kernelspec": {
   "display_name": "Python 3",
   "language": "python",
   "name": "python3"
  },
  "language_info": {
   "codemirror_mode": {
    "name": "ipython",
    "version": 3
   },
   "file_extension": ".py",
   "mimetype": "text/x-python",
   "name": "python",
   "nbconvert_exporter": "python",
   "pygments_lexer": "ipython3",
   "version": "3.10.4"
  }
 },
 "nbformat": 4,
 "nbformat_minor": 2
}
